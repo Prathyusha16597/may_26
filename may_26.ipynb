{
 "cells": [
  {
   "cell_type": "code",
   "execution_count": 3,
   "id": "02e5289e",
   "metadata": {},
   "outputs": [
    {
     "name": "stdout",
     "output_type": "stream",
     "text": [
      "I am Displaying Method \n"
     ]
    }
   ],
   "source": [
    "class Parent:\n",
    "    def __inti__(self):\n",
    "        print(\"I am Parent Class\")\n",
    "    def display(self):\n",
    "        print(\"I am Displaying Method \")\n",
    "class Child(Parent):\n",
    "    def __inti__(self):\n",
    "        print(\"I am Child Class\")\n",
    "p=Parent()\n",
    "c=Child(\n",
    "c.display()              \n",
    "              "
   ]
  },
  {
   "cell_type": "code",
   "execution_count": 6,
   "id": "149d02ce",
   "metadata": {},
   "outputs": [
    {
     "name": "stdout",
     "output_type": "stream",
     "text": [
      "I am Child Class\n",
      "I gave to my son\n",
      "I gave to my son\n"
     ]
    }
   ],
   "source": [
    "class Father:\n",
    "    def __init__(self):\n",
    "        print(\"I am parent Class\")\n",
    "    def car(self):\n",
    "        print(\"I gave to my son\")\n",
    "    def house(self):\n",
    "        print(\"I gave to my son\")\n",
    "class Son(Father):\n",
    "    def __init__(self):\n",
    "        print(\"I am Child Class\")\n",
    "s=Son()\n",
    "s.car()\n",
    "s.house()\n"
   ]
  },
  {
   "cell_type": "code",
   "execution_count": 10,
   "id": "80353946",
   "metadata": {},
   "outputs": [
    {
     "name": "stdout",
     "output_type": "stream",
     "text": [
      "I am Child Class\n",
      "I gave to my childes\n",
      "I gave to my childes\n",
      "I gave to my Childes\n",
      "I gave to my childes\n"
     ]
    }
   ],
   "source": [
    "class Father:\n",
    "    def __init__(self):\n",
    "        print(\"I am parent Class\")\n",
    "    def car(self):\n",
    "        print(\"I gave to my childes\")\n",
    "    def house(self):\n",
    "        print(\"I gave to my Childes\")\n",
    "class Son(Father):\n",
    "    def __init__(self):\n",
    "        print(\"I am Child Class\")\n",
    "class Daughter(Father):\n",
    "    def __init__(self):\n",
    "        pass\n",
    "class Son1(Father):\n",
    "    def __init__(self):\n",
    "        pass\n",
    "class Daughter1(Father):\n",
    "    def __init__(self):\n",
    "        pass\n",
    "    \n",
    "s=Son()\n",
    "d=Daughter()\n",
    "s1=Son1()\n",
    "d1=Daughter()\n",
    "d.car()\n",
    "s.car()\n",
    "d1.house()\n",
    "s1.car()"
   ]
  },
  {
   "cell_type": "code",
   "execution_count": 11,
   "id": "d9a31fd6",
   "metadata": {},
   "outputs": [
    {
     "name": "stdout",
     "output_type": "stream",
     "text": [
      "which habit of son\n",
      "Father so anger\n",
      "GrandMother is Kindly\n",
      "Son Executing\n",
      "Father is so Honest\n",
      "Daughter Executing\n",
      "Father is so Honest\n"
     ]
    }
   ],
   "source": [
    "class Grandfather:\n",
    "    def __init__(self):\n",
    "        print(\"GrandFather Executing\")\n",
    "    def anger(self):\n",
    "        print(\"Father so anger\" )\n",
    "class Grandmother:\n",
    "    def __init__(self):\n",
    "        print(\"Mother Executing\")\n",
    "    def kindly(self):\n",
    "        print(\"GrandMother is Kindly\")\n",
    "class Father(Grandfather,Grandmother):\n",
    "    def __init__(self):\n",
    "        print(\"which habit of son\")\n",
    "    def honestly(self):\n",
    "        print(\"Father is so Honest\")\n",
    "class Son(Father):\n",
    "    def __init__(self):\n",
    "        print(\"Son Executing\")\n",
    "class Daughter(Father):\n",
    "    def __init__(self):\n",
    "        print(\"Daughter Executing\")\n",
    "f=Father()\n",
    "f.anger()\n",
    "f.kindly()\n",
    "s=Son()\n",
    "s.honestly()\n",
    "d=Daughter()\n",
    "d.honestly()"
   ]
  },
  {
   "cell_type": "code",
   "execution_count": 14,
   "id": "c4af3fb7",
   "metadata": {},
   "outputs": [
    {
     "name": "stdout",
     "output_type": "stream",
     "text": [
      "Son is drive the Car\n",
      "Father is drive the Car\n"
     ]
    }
   ],
   "source": [
    "class Father:\n",
    "    def __init__(self):\n",
    "        pass\n",
    "    def drive(self):\n",
    "        print(\"Father is drive the Car\")\n",
    "class Son(Father):\n",
    "    def __init__(self):\n",
    "        pass\n",
    "    def drive(self):\n",
    "        print(\"Son is drive the Car\")\n",
    "s=Son()\n",
    "s.drive()\n",
    "f=Father()\n",
    "f.drive()        "
   ]
  },
  {
   "cell_type": "code",
   "execution_count": null,
   "id": "30f962ce",
   "metadata": {},
   "outputs": [],
   "source": []
  }
 ],
 "metadata": {
  "kernelspec": {
   "display_name": "Python 3",
   "language": "python",
   "name": "python3"
  },
  "language_info": {
   "codemirror_mode": {
    "name": "ipython",
    "version": 3
   },
   "file_extension": ".py",
   "mimetype": "text/x-python",
   "name": "python",
   "nbconvert_exporter": "python",
   "pygments_lexer": "ipython3",
   "version": "3.8.8"
  }
 },
 "nbformat": 4,
 "nbformat_minor": 5
}
